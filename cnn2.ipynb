{
  "nbformat": 4,
  "nbformat_minor": 0,
  "metadata": {
    "colab": {
      "name": "cnn2.ipynb",
      "provenance": [],
      "collapsed_sections": []
    },
    "kernelspec": {
      "name": "python3",
      "display_name": "Python 3"
    },
    "accelerator": "GPU"
  },
  "cells": [
    {
      "cell_type": "code",
      "metadata": {
        "id": "zyP2HTXrz4Lb"
      },
      "source": [
        "# Larger CNN for the MNIST Dataset\n",
        "import numpy as np\n",
        "import cv2\n",
        "from keras.datasets import mnist\n",
        "from keras.models import Sequential\n",
        "from keras.layers import Dense\n",
        "from keras.layers import Dropout\n",
        "from keras.layers import Flatten\n",
        "from keras.layers.convolutional import Conv2D\n",
        "from keras.layers.convolutional import MaxPooling2D\n",
        "from keras.utils import np_utils\n",
        "from keras import backend as K\n",
        "import matplotlib.pyplot as plt"
      ],
      "execution_count": 15,
      "outputs": []
    },
    {
      "cell_type": "code",
      "metadata": {
        "id": "HZRkbHVq0BwL"
      },
      "source": [
        "# Fix random seed for reproducibility\n",
        "seed = 7\n",
        "np.random.seed(seed)\n",
        "\n",
        "(X_train, y_train), (X_test, y_test) = mnist.load_data()\n",
        "\n",
        "# Reshape to be samples*pixels*width*height\n",
        "X_train = X_train.reshape(X_train.shape[0], 28, 28, 1).astype('float32')\n",
        "X_test = X_test.reshape(X_test.shape[0], 28, 28, 1).astype('float32')\n",
        "\n",
        "# Normalize inputs from 0-255 to 0-1\n",
        "X_train = X_train / 255\n",
        "X_test = X_test / 255\n",
        "\n",
        "# One Hot encode outputs\n",
        "y_train = np_utils.to_categorical(y_train)\n",
        "y_test = np_utils.to_categorical(y_test)\n",
        "num_classes = y_test.shape[1]"
      ],
      "execution_count": 16,
      "outputs": []
    },
    {
      "cell_type": "code",
      "metadata": {
        "colab": {
          "base_uri": "https://localhost:8080/"
        },
        "id": "D75GODqA0WeX",
        "outputId": "c5f5bea8-3c6a-48e2-b63f-7eb14923d508"
      },
      "source": [
        "# Create model\n",
        "model = Sequential()\n",
        "model.add(Conv2D(32, (5, 5), input_shape=(28, 28, 1), activation='relu'))\n",
        "model.add(MaxPooling2D(pool_size=(2, 2)))\n",
        "model.add(Conv2D(16, (3, 3), activation='relu'))\n",
        "model.add(MaxPooling2D(pool_size=(2, 2)))\n",
        "model.add(Dropout(0.2))\n",
        "model.add(Flatten())\n",
        "model.add(Dense(128, activation='relu'))\n",
        "model.add(Dense(64, activation='relu'))\n",
        "model.add(Dense(num_classes, activation='softmax'))\n",
        "\n",
        "model.summary()"
      ],
      "execution_count": 11,
      "outputs": [
        {
          "output_type": "stream",
          "text": [
            "Model: \"sequential_3\"\n",
            "_________________________________________________________________\n",
            "Layer (type)                 Output Shape              Param #   \n",
            "=================================================================\n",
            "conv2d_4 (Conv2D)            (None, 24, 24, 32)        832       \n",
            "_________________________________________________________________\n",
            "max_pooling2d_2 (MaxPooling2 (None, 12, 12, 32)        0         \n",
            "_________________________________________________________________\n",
            "conv2d_5 (Conv2D)            (None, 10, 10, 16)        4624      \n",
            "_________________________________________________________________\n",
            "max_pooling2d_3 (MaxPooling2 (None, 5, 5, 16)          0         \n",
            "_________________________________________________________________\n",
            "dropout_1 (Dropout)          (None, 5, 5, 16)          0         \n",
            "_________________________________________________________________\n",
            "flatten_1 (Flatten)          (None, 400)               0         \n",
            "_________________________________________________________________\n",
            "dense_3 (Dense)              (None, 128)               51328     \n",
            "_________________________________________________________________\n",
            "dense_4 (Dense)              (None, 64)                8256      \n",
            "_________________________________________________________________\n",
            "dense_5 (Dense)              (None, 10)                650       \n",
            "=================================================================\n",
            "Total params: 65,690\n",
            "Trainable params: 65,690\n",
            "Non-trainable params: 0\n",
            "_________________________________________________________________\n"
          ],
          "name": "stdout"
        }
      ]
    },
    {
      "cell_type": "code",
      "metadata": {
        "colab": {
          "base_uri": "https://localhost:8080/"
        },
        "id": "JLAPFLlo0dfT",
        "outputId": "08e003a7-4cc3-41c6-b8b5-e707502e5917"
      },
      "source": [
        "model.compile(loss='categorical_crossentropy', optimizer='adam',\n",
        "               metrics=['accuracy'])\n",
        "model.fit(X_train, y_train, validation_data=(X_test, y_test),\n",
        "               epochs=10, batch_size=200)\n",
        "scores = model.evaluate(X_test, y_test, verbose=0)\n",
        "print(\"Large CNN Error: %.2f%%\" % (100-scores[1]*100))"
      ],
      "execution_count": 12,
      "outputs": [
        {
          "output_type": "stream",
          "text": [
            "Epoch 1/10\n",
            "300/300 [==============================] - 2s 5ms/step - loss: 0.3751 - accuracy: 0.8838 - val_loss: 0.0796 - val_accuracy: 0.9762\n",
            "Epoch 2/10\n",
            "300/300 [==============================] - 1s 4ms/step - loss: 0.0953 - accuracy: 0.9708 - val_loss: 0.0507 - val_accuracy: 0.9836\n",
            "Epoch 3/10\n",
            "300/300 [==============================] - 1s 4ms/step - loss: 0.0706 - accuracy: 0.9783 - val_loss: 0.0467 - val_accuracy: 0.9860\n",
            "Epoch 4/10\n",
            "300/300 [==============================] - 1s 4ms/step - loss: 0.0563 - accuracy: 0.9829 - val_loss: 0.0401 - val_accuracy: 0.9872\n",
            "Epoch 5/10\n",
            "300/300 [==============================] - 1s 4ms/step - loss: 0.0476 - accuracy: 0.9852 - val_loss: 0.0323 - val_accuracy: 0.9894\n",
            "Epoch 6/10\n",
            "300/300 [==============================] - 1s 4ms/step - loss: 0.0417 - accuracy: 0.9864 - val_loss: 0.0266 - val_accuracy: 0.9912\n",
            "Epoch 7/10\n",
            "300/300 [==============================] - 1s 4ms/step - loss: 0.0366 - accuracy: 0.9881 - val_loss: 0.0274 - val_accuracy: 0.9915\n",
            "Epoch 8/10\n",
            "300/300 [==============================] - 1s 4ms/step - loss: 0.0344 - accuracy: 0.9886 - val_loss: 0.0325 - val_accuracy: 0.9892\n",
            "Epoch 9/10\n",
            "300/300 [==============================] - 1s 4ms/step - loss: 0.0314 - accuracy: 0.9896 - val_loss: 0.0263 - val_accuracy: 0.9921\n",
            "Epoch 10/10\n",
            "300/300 [==============================] - 1s 4ms/step - loss: 0.0278 - accuracy: 0.9915 - val_loss: 0.0243 - val_accuracy: 0.9916\n",
            "Large CNN Error: 0.84%\n"
          ],
          "name": "stdout"
        }
      ]
    },
    {
      "cell_type": "code",
      "metadata": {
        "colab": {
          "base_uri": "https://localhost:8080/",
          "height": 353
        },
        "id": "HrhLcn7Y08QI",
        "outputId": "81d6891f-5450-40e2-9873-d1b64c7876ea"
      },
      "source": [
        "test_images = X_test[1:5]\n",
        "test_images = test_images.reshape(test_images.shape[0], 28, 28)\n",
        "print (\"Test images shape: {}\".format(test_images.shape))\n",
        "for i, test_image in enumerate(test_images, start=1):\n",
        "    org_image = test_image\n",
        "    test_image = test_image.reshape(1,28,28,1)\n",
        "    prediction = np.argmax(model.predict(test_image), axis=-1)\n",
        "    print (\"Predicted digit: {}\".format(prediction[0]))\n",
        "    plt.subplot(220+i)\n",
        "    plt.axis('off')\n",
        "    plt.title(\"Predicted digit: {}\".format(prediction[0]))\n",
        "    plt.imshow(org_image, cmap=plt.get_cmap('gray'))\n",
        "plt.show()"
      ],
      "execution_count": 18,
      "outputs": [
        {
          "output_type": "stream",
          "text": [
            "Test images shape: (4, 28, 28)\n",
            "Predicted digit: 2\n",
            "Predicted digit: 1\n",
            "Predicted digit: 0\n",
            "Predicted digit: 4\n"
          ],
          "name": "stdout"
        },
        {
          "output_type": "display_data",
          "data": {
            "image/png": "[encoded data removed]",
            "text/plain": [
              "<Figure size 432x288 with 4 Axes>"
            ]
          },
          "metadata": {
            "tags": [],
            "needs_background": "light"
          }
        }
      ]
    },
    {
      "cell_type": "code",
      "metadata": {
        "colab": {
          "base_uri": "https://localhost:8080/"
        },
        "id": "SPFnxwyz1MJo",
        "outputId": "a04258f7-4910-46b8-c394-1be1a4037ade"
      },
      "source": [
        "# serialize model to JSON\n",
        "model_json = model.to_json()\n",
        "with open(\"model.json\", \"w\") as json_file:\n",
        "    json_file.write(model_json)\n",
        "# serialize weights to HDF5\n",
        "model.save_weights(\"model.h5\")\n",
        "print(\"Saved model to disk\")"
      ],
      "execution_count": 19,
      "outputs": [
        {
          "output_type": "stream",
          "text": [
            "Saved model to disk\n"
          ],
          "name": "stdout"
        }
      ]
    },
    {
      "cell_type": "code",
      "metadata": {
        "id": "qa-zLwe72C8W"
      },
      "source": [
        ""
      ],
      "execution_count": null,
      "outputs": []
    }
  ]
}